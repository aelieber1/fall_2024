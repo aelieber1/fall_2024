{
 "cells": [
  {
   "cell_type": "markdown",
   "metadata": {},
   "source": [
    "## HC3N Pyspeckit Fitting Results in LaTex + Calculations\n",
    "\n",
    "Author: @millbets code adapted by @alieber1 for new results"
   ]
  },
  {
   "cell_type": "code",
   "execution_count": 2,
   "metadata": {},
   "outputs": [],
   "source": [
    "# Import packages\n",
    "import numpy as np                          # I use this for maths and sometimes arrays.\n",
    "                                            # \"np\" is just an abbreviation since we call this package so often!\n",
    "import pylab                                # I use this for arrays and plotting\n",
    "import matplotlib                           # Another plotting package\n",
    "import matplotlib.gridspec as gridspec      # If there is a task you use a lot, importing it like this \n",
    "                                            # keeps you from having to constantly type \"matplotlib.gridspec\"\n",
    "                                            # every time you call that task!\n",
    "import scipy\n",
    "import matplotlib.pyplot as plt\n",
    "from radio_beam import Beam\n",
    "\n",
    "import astropy.io.fits as fits              # I use this to import FITS images. \n",
    "                                            # Astropy should be included in your conda installation\n",
    "from astropy.wcs import WCS                 # This one helps us add coordinates to images\n",
    "from astropy import units as u              # This one helps with unit conversion\n",
    "from astropy import coordinates as coord\n",
    "from astropy import log\n",
    "\n",
    "import regions\n",
    "\n",
    "import pyspeckit as psk                     # I use this to do spectral line fitting\n",
    "                                            # You probably don't have it installed; \n",
    "                                            # to install, type 'pip install pyspeckit' in a terminal window\n",
    "        \n",
    "from spectral_cube import SpectralCube      # This is a handy package for working with 3D data cubes\n",
    "\n",
    "from reproject import reproject_interp      # Reproject is another useful package you should install\n",
    "from reproject.mosaicking import find_optimal_celestial_wcs \n",
    "\n",
    "import astropy.io.fits as pyfits\n",
    "\n",
    "                                            # Suppress warnings we don't care about:\n",
    "import sys\n",
    "if not sys.warnoptions:\n",
    "    import warnings\n",
    "    warnings.simplefilter(\"ignore\")\n",
    "\n",
    "                                            # Super important!! \n",
    "                                            # This embeds plots in the Jupyter window \n",
    "                                            # (instead of showing them as pop-ups)\n",
    "%matplotlib inline                             \n",
    "\n",
    "matplotlib.rc('font', family='sans-serif')  # Set plot fonts\n",
    "#matplotlib.rc('text', usetex=True)      \n",
    "matplotlib.rc('text', usetex=False)        # This is a quick fix if you don't have latex on your computer\n",
    "\n",
    "import os\n",
    "os.environ[\"PATH\"] += os.pathsep + '/Library/TeX'\n"
   ]
  },
  {
   "cell_type": "code",
   "execution_count": 3,
   "metadata": {},
   "outputs": [],
   "source": [
    "sources = pylab.array(['1','2','3','4','5','6','7SW','7','8W','8','9','9NE','10','10NE','11','12','13','14'])\n",
    "\n",
    "# Source Right Ascensions\n",
    "RAs =  pylab.array([11.886669,11.886749,11.886829,11.8872162,11.8874364,11.88755,11.887466,\\\n",
    "                    11.887567,11.887861,11.887978,11.887984,11.888092,11.8881464,11.888209,\\\n",
    "                    11.8882,11.888264,11.888322,11.8887287])\n",
    "\n",
    "# Source Declinations\n",
    "Decs = pylab.array([-25.289232,-25.289240,-25.289200,-25.2889692,-25.288806,-25.288737,-25.288682,\\\n",
    "                    -25.288628,-25.288251,-25.288244,-25.288389,-25.288297,-25.2880799,-25.288021,\\\n",
    "                    -25.288175,-25.288095,-25.287989,-25.2876482])  \n"
   ]
  },
  {
   "cell_type": "code",
   "execution_count": 4,
   "metadata": {},
   "outputs": [
    {
     "name": "stdout",
     "output_type": "stream",
     "text": [
      "[3.09968980e+02 1.85999359e+00 1.13363166e+01 1.85999359e+00\n",
      " 7.24004011e-01 1.02872423e-01]\n",
      "309.96898046457443\n"
     ]
    }
   ],
   "source": [
    "fit1 = np.loadtxt('HC3N_v7_1e_fitting_results_A.txt', delimiter=' ')\n",
    "linezz = fit1[0]\n",
    "print(linezz)\n",
    "print(linezz[0])"
   ]
  },
  {
   "cell_type": "code",
   "execution_count": 6,
   "metadata": {},
   "outputs": [
    {
     "name": "stdout",
     "output_type": "stream",
     "text": [
      "\\begin{table*}[t]\n",
      "\\caption{Observed Line Parameters}\n",
      "\\centering\n",
      "\\begin{tabular}{llllll}\n",
      "\\hline\\hline\n",
      "       &  RA       & Dec       & \\multicolumn{3}{c}{----------- HC$_3$N v$_7$=1e -----------} \\\\\n",
      "Source & ($\\degr$) & ($\\degr$) & v$_{cen}$    &  $\\sigma_{\\mathrm{FWHM}}$ &  Peak T$_B$      \\\\\n",
      "       &           &           &(km s$^{-1}$) & (km s$^{-1}$)          & (K)     \\\\\n",
      "\\hline\n",
      "1&  11.88667 & -25.28923 & 310.0 $\\pm$ 1.9 & 26 $\\pm$ 4 & 0.7 $\\pm$ 0.1 \\\\\n",
      "2&  11.88675 & -25.28924 & 310.0 $\\pm$ 1.0 & 22 $\\pm$ 2 & 1.3 $\\pm$ 0.1 \\\\\n",
      "3&  11.88683 & -25.28920 & 305.2 $\\pm$ 1.1 & 31 $\\pm$ 2 & 1.4 $\\pm$ 0.1 \\\\\n",
      "4&  11.88722 & -25.28897 & 251.7 $\\pm$ 1.1 & 20 $\\pm$ 2 & 1.1 $\\pm$ 0.1 \\\\\n",
      "8&  11.88798 & -25.28824 & 303.3 $\\pm$ 0.9 & 22 $\\pm$ 2 & 1.4 $\\pm$ 0.1 \\\\\n",
      "13&  11.88832 & -25.28799 & 254.5 $\\pm$ 0.8 & 29 $\\pm$ 1 & 2.1 $\\pm$ 0.1 \\\\\n",
      "14&  11.88873 & -25.28765 & 196.6 $\\pm$ 0.4 & 48 $\\pm$ 0 & 5.0 $\\pm$ 0.1 \\\\\n",
      "\\hline\\hline\n",
      "\\end{tabular}\n",
      "\\label{params}\n",
      "\\end{table*}\n",
      " \n",
      " \n"
     ]
    }
   ],
   "source": [
    "\n",
    "print( '\\\\begin{table*}[t]')\n",
    "print( '\\caption{Observed Line Parameters}')\n",
    "print( '\\centering')\n",
    "print( '\\\\begin{tabular}{llllll}')\n",
    "print( '\\hline\\hline')\n",
    "print( '       &  RA       & Dec       & \\multicolumn{3}{c}{----------- HC$_3$N v$_7$=1e -----------} \\\\\\\\')\n",
    "print( 'Source & ($\\degr$) & ($\\degr$) & v$_{cen}$    &  $\\\\sigma_{\\mathrm{FWHM}}$ &  Peak T$_B$      \\\\\\\\')\n",
    "print( '       &           &           &(km s$^{-1}$) & (km s$^{-1}$)          & (K)     \\\\\\\\'   )              \n",
    "print( '\\hline')\n",
    "\n",
    "q = 0\n",
    "for i,source in enumerate(sources):\n",
    "    line = fit1[i]\n",
    "    \n",
    "    Fa = line[4]*line[2]*2.3548   # Peak temp (Amp) * Sigma * 2.3548\n",
    "    Fluxa = line[4]*line[2]*np.sqrt(2*np.pi) # peak Temp * sigma * sqrt(2pi)\n",
    "    flux_err_a = np.sqrt((line[5]/line[4])**2+(line[3]/line[2])**2) * Fa  # Error propagation\n",
    "\n",
    "    Ypm = 5\n",
    "    Ypm_err = 5\n",
    "\n",
    "    if (i==0)+(i==1)+(i==2)+(i==3)+(i==9)+(i==16)+(i==17):\n",
    "            print( source+'&  %1.5f & %1.5f & %2.1f $\\pm$ %1.1f & %i $\\pm$ %i & %2.1f $\\pm$ %1.1f \\\\\\\\' %\n",
    "                    (RAs[i],Decs[i],line[0],line[1],line[2]*2.3548,line[3]*2.3548,line[4],line[5]))\n",
    " \n",
    "    \n",
    "        \n",
    "print( '\\hline\\hline')\n",
    "print( '\\end{tabular}')\n",
    "print( '\\label{params}')\n",
    "print( '\\\\end{table*}')\n",
    "print( ' ')\n",
    "print( ' '  )"
   ]
  },
  {
   "cell_type": "code",
   "execution_count": 11,
   "metadata": {},
   "outputs": [
    {
     "name": "stdout",
     "output_type": "stream",
     "text": [
      "[2.98553334e+02 1.54250510e-01 1.92073814e+01 1.54250510e-01\n",
      " 9.77327247e+00 6.79720432e-02]\n",
      "298.5533344613625\n"
     ]
    }
   ],
   "source": [
    "Cube3_A = np.loadtxt('HC3N_nonvib_fitting_results_A.txt', delimiter=' ')\n",
    "Cube3_A_fit = Cube3_A[0]\n",
    "print(Cube3_A_fit)\n",
    "print(Cube3_A_fit[0])\n",
    "\n",
    "Cube3_B = np.loadtxt('HC3N_nonvib_fitting_results_B.txt', delimiter=' ')\n",
    "Cube3_B_fit = Cube3_B[0]"
   ]
  },
  {
   "cell_type": "code",
   "execution_count": 13,
   "metadata": {},
   "outputs": [
    {
     "name": "stdout",
     "output_type": "stream",
     "text": [
      "\\begin{table*}[t]\n",
      "\\caption{Observed Line Parameters}\n",
      "\\centering\n",
      "\\begin{tabular}{llllll}\n",
      "\\hline\\hline\n",
      "       &  RA       & Dec       & \\multicolumn{3}{c}{----------- HC$_3$N v=0 J=11-10 -----------} \\\\\n",
      "Source & ($\\degr$) & ($\\degr$) & v$_{cen}$    &  $\\sigma_{\\mathrm{FWHM}}$ &  Peak T$_B$      \\\\\n",
      "       &           &           &(km s$^{-1}$) & (km s$^{-1}$)          & (K)     \\\\\n",
      "\\hline\n",
      "1&  11.88667 & -25.28923 & 298.6 $\\pm$ 0.2 & 45 $\\pm$ 0 & 9.8 $\\pm$ 0.1 \\\\\n",
      "2&  11.88675 & -25.28924 & 296.1 $\\pm$ 0.1 & 45 $\\pm$ 0 & 12.0 $\\pm$ 0.1 \\\\\n",
      "3&  11.88683 & -25.28920 & 286.9 $\\pm$ 0.2 & 50 $\\pm$ 0 & 12.1 $\\pm$ 0.1 \\\\\n",
      "4&  11.88722 & -25.28897 & 259.4 $\\pm$ 0.2 & 25 $\\pm$ 0 & 7.7 $\\pm$ 0.1 \\\\\n",
      "5&  11.88744 & -25.28881 & 219.4 $\\pm$ 0.2 & 41 $\\pm$ 0 & 8.6 $\\pm$ 0.1 \\\\\n",
      "6&  11.88755 & -25.28874 & 223.2 $\\pm$ 0.5 & 30 $\\pm$ 1 & 3.1 $\\pm$ 0.1 \\\\\n",
      "7SW&  11.88747 & -25.28868 & 241.6 $\\pm$ 1.1 & 48 $\\pm$ 2 & 1.8 $\\pm$ 0.1 \\\\\n",
      "7&  11.88757 & -25.28863 & 247.7 $\\pm$ 0.5 & 37 $\\pm$ 1 & 2.9 $\\pm$ 0.1 \\\\\n",
      "& & & 306.9 $\\pm$ 0.6 & 26 $\\pm$ 1 & 1.8 $\\pm$ 0.1 \\\\\n",
      "8W&  11.88786 & -25.28825 & 292.1 $\\pm$ 0.5 & 36 $\\pm$ 1 & 3.3 $\\pm$ 0.1 \\\\\n",
      "8&  11.88798 & -25.28824 & 303.1 $\\pm$ 0.1 & 25 $\\pm$ 0 & 8.0 $\\pm$ 0.1 \\\\\n",
      "9&  11.88798 & -25.28839 & 168.6 $\\pm$ 1.2 & 40 $\\pm$ 2 & 1.4 $\\pm$ 0.1 \\\\\n",
      "9NE&  11.88809 & -25.28830 & 157.3 $\\pm$ 2.1 & 50 $\\pm$ 0 & 0.8 $\\pm$ 0.1 \\\\\n",
      "10&  11.88815 & -25.28808 & 171.3 $\\pm$ 0.9 & 48 $\\pm$ 2 & 2.0 $\\pm$ 0.1 \\\\\n",
      "& & & 274.4 $\\pm$ 0.3 & 30 $\\pm$ 0 & 4.8 $\\pm$ 0.1 \\\\\n",
      "10NE&  11.88821 & -25.28802 & 180.6 $\\pm$ 0.8 & 40 $\\pm$ 1 & 1.8 $\\pm$ 0.1 \\\\\n",
      "& & & 251.9 $\\pm$ 1.6 & 44 $\\pm$ 4 & 1.0 $\\pm$ 0.1 \\\\\n",
      "11&  11.88820 & -25.28817 & 145.8 $\\pm$ 0.7 & 50 $\\pm$ 0 & 2.4 $\\pm$ 0.1 \\\\\n",
      "& & & 272.1 $\\pm$ 1.8 & 30 $\\pm$ 4 & 0.7 $\\pm$ 0.1 \\\\\n",
      "12&  11.88826 & -25.28809 & 158.0 $\\pm$ 0.5 & 50 $\\pm$ 0 & 3.2 $\\pm$ 0.0 \\\\\n",
      "13&  11.88832 & -25.28799 & 247.3 $\\pm$ 0.2 & 36 $\\pm$ 0 & 9.8 $\\pm$ 0.1 \\\\\n",
      "14&  11.88873 & -25.28765 & 199.2 $\\pm$ 0.1 & 47 $\\pm$ 0 & 19.7 $\\pm$ 0.1 \\\\\n",
      "\\hline\\hline\n",
      "\\end{tabular}\n",
      "\\label{params}\n",
      "\\end{table*}\n",
      " \n"
     ]
    }
   ],
   "source": [
    "print( '\\\\begin{table*}[t]')\n",
    "print( '\\caption{Observed Line Parameters}')\n",
    "print( '\\centering')\n",
    "print( '\\\\begin{tabular}{llllll}')\n",
    "print( '\\hline\\hline')\n",
    "print( '       &  RA       & Dec       & \\multicolumn{3}{c}{----------- HC$_3$N v=0 J=11-10 -----------} \\\\\\\\')\n",
    "print( 'Source & ($\\degr$) & ($\\degr$) & v$_{cen}$    &  $\\\\sigma_{\\mathrm{FWHM}}$ &  Peak T$_B$      \\\\\\\\')\n",
    "print( '       &           &           &(km s$^{-1}$) & (km s$^{-1}$)          & (K)     \\\\\\\\'   )              \n",
    "print( '\\hline')\n",
    "\n",
    "q = 0\n",
    "for i,source in enumerate(sources):\n",
    "    line = Cube3_A[i]\n",
    "    line2 = Cube3_B[i]\n",
    "\n",
    "    \n",
    "    Fa = line[4]*line[2]*2.3548   # Peak temp (Amp) * Sigma * 2.3548\n",
    "    Fluxa = line[4]*line[2]*np.sqrt(2*np.pi) # peak Temp * sigma * sqrt(2pi)\n",
    "    flux_err_a = np.sqrt((line[5]/line[4])**2+(line[3]/line[2])**2) * Fa  # Error propagation\n",
    "\n",
    "    Ypm = 5\n",
    "    Ypm_err = 5\n",
    "    \n",
    "    print( source+'&  %1.5f & %1.5f & %2.1f $\\pm$ %1.1f & %i $\\pm$ %i & %2.1f $\\pm$ %1.1f \\\\\\\\' %\n",
    "          (RAs[i],Decs[i],line[0],line[1],line[2]*2.3548,line[3]*2.3548,line[4],line[5]))\n",
    "            \n",
    "    if line2[0]!=0: \n",
    "            print( '& & & %2.1f $\\pm$ %1.1f & %i $\\pm$ %i & %2.1f $\\pm$ %1.1f \\\\\\\\' %\n",
    "                (line2[0],line2[1],line2[2]*2.3548,line2[3]*2.3548,line2[4],line2[5]))\n",
    " \n",
    "    \n",
    "        \n",
    "print( '\\hline\\hline')\n",
    "print( '\\end{tabular}')\n",
    "print( '\\label{params}')\n",
    "print( '\\\\end{table*}')\n",
    "print( ' ')"
   ]
  },
  {
   "cell_type": "code",
   "execution_count": null,
   "metadata": {},
   "outputs": [],
   "source": []
  }
 ],
 "metadata": {
  "kernelspec": {
   "display_name": "Python 3",
   "language": "python",
   "name": "python3"
  },
  "language_info": {
   "codemirror_mode": {
    "name": "ipython",
    "version": 3
   },
   "file_extension": ".py",
   "mimetype": "text/x-python",
   "name": "python",
   "nbconvert_exporter": "python",
   "pygments_lexer": "ipython3",
   "version": "3.9.6"
  }
 },
 "nbformat": 4,
 "nbformat_minor": 2
}
